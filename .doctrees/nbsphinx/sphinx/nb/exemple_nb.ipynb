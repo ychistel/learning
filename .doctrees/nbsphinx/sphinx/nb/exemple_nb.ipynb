{
 "cells": [
  {
   "cell_type": "markdown",
   "id": "045fa4d3",
   "metadata": {},
   "source": [
    "# Notebook dans sphinx\n",
    "\n",
    "Avec l'extension ``nbsphinx``, on peut ajouter des notebook rédigés en **markdown**. De plus, les cellules en Python apparaissent comme des blocs de code. Ils ne sont pas éditables ni exécutables avec cette seule extension."
   ]
  },
  {
   "cell_type": "code",
   "execution_count": 1,
   "id": "f1df7a71",
   "metadata": {},
   "outputs": [
    {
     "name": "stdout",
     "output_type": "stream",
     "text": [
      "Notebook avec sphinx\n"
     ]
    }
   ],
   "source": [
    "print('Notebook avec sphinx')"
   ]
  }
 ],
 "metadata": {
  "kernelspec": {
   "display_name": "Python 3 (ipykernel)",
   "language": "python",
   "name": "python3"
  },
  "language_info": {
   "codemirror_mode": {
    "name": "ipython",
    "version": 3
   },
   "file_extension": ".py",
   "mimetype": "text/x-python",
   "name": "python",
   "nbconvert_exporter": "python",
   "pygments_lexer": "ipython3",
   "version": "3.11.0"
  }
 },
 "nbformat": 4,
 "nbformat_minor": 5
}
